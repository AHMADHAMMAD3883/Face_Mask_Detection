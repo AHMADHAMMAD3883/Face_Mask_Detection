{
 "cells": [
  {
   "cell_type": "code",
   "execution_count": 4,
   "metadata": {},
   "outputs": [
    {
     "name": "stdout",
     "output_type": "stream",
     "text": [
      "Found 1315 images belonging to 1 classes.\n",
      "Found 194 images belonging to 1 classes.\n",
      "Epoch 1/10\n"
     ]
    },
    {
     "name": "stderr",
     "output_type": "stream",
     "text": [
      "C:\\Users\\user\\anaconda3\\lib\\site-packages\\tensorflow\\python\\keras\\engine\\training.py:1963: UserWarning: `Model.fit_generator` is deprecated and will be removed in a future version. Please use `Model.fit`, which supports generators.\n",
      "  warnings.warn('`Model.fit_generator` is deprecated and '\n"
     ]
    },
    {
     "name": "stdout",
     "output_type": "stream",
     "text": [
      "132/132 [==============================] - 63s 474ms/step - loss: 0.0057 - acc: 0.9939 - val_loss: 1.9184e-22 - val_acc: 1.0000\n",
      "INFO:tensorflow:Assets written to: model2-001.model\\assets\n",
      "Epoch 2/10\n",
      "132/132 [==============================] - 60s 455ms/step - loss: 8.9815e-23 - acc: 1.0000 - val_loss: 1.9182e-22 - val_acc: 1.0000\n",
      "INFO:tensorflow:Assets written to: model2-002.model\\assets\n",
      "Epoch 3/10\n",
      "132/132 [==============================] - 61s 460ms/step - loss: 8.6708e-19 - acc: 1.0000 - val_loss: 1.9182e-22 - val_acc: 1.0000\n",
      "Epoch 4/10\n",
      "132/132 [==============================] - 62s 469ms/step - loss: 3.0941e-17 - acc: 1.0000 - val_loss: 1.9182e-22 - val_acc: 1.0000\n",
      "Epoch 5/10\n",
      "132/132 [==============================] - 60s 451ms/step - loss: 5.7435e-18 - acc: 1.0000 - val_loss: 1.9182e-22 - val_acc: 1.0000\n",
      "Epoch 6/10\n",
      "132/132 [==============================] - 59s 445ms/step - loss: 5.1920e-21 - acc: 1.0000 - val_loss: 1.9182e-22 - val_acc: 1.0000\n",
      "Epoch 7/10\n",
      "132/132 [==============================] - 59s 445ms/step - loss: 2.4925e-19 - acc: 1.0000 - val_loss: 1.9182e-22 - val_acc: 1.0000\n",
      "Epoch 8/10\n",
      "132/132 [==============================] - 60s 454ms/step - loss: 4.8285e-22 - acc: 1.0000 - val_loss: 1.9182e-22 - val_acc: 1.0000\n",
      "Epoch 9/10\n",
      "132/132 [==============================] - 60s 452ms/step - loss: 8.5383e-16 - acc: 1.0000 - val_loss: 1.9182e-22 - val_acc: 1.0000\n",
      "Epoch 10/10\n",
      "132/132 [==============================] - 59s 446ms/step - loss: 2.3185e-19 - acc: 1.0000 - val_loss: 1.9182e-22 - val_acc: 1.0000\n"
     ]
    }
   ],
   "source": [
    "from keras.optimizers import RMSprop\n",
    "from keras.preprocessing.image import ImageDataGenerator\n",
    "import cv2\n",
    "from keras.models import Sequential\n",
    "from keras.layers import Conv2D, Input, ZeroPadding2D, BatchNormalization, Activation, MaxPooling2D, Flatten, Dense,Dropout\n",
    "from keras.models import Model, load_model\n",
    "from keras.callbacks import TensorBoard, ModelCheckpoint\n",
    "from sklearn.model_selection import train_test_split\n",
    "from sklearn.metrics import f1_score\n",
    "from sklearn.utils import shuffle\n",
    "import imutils\n",
    "import numpy as np\n",
    "\n",
    "model =Sequential([\n",
    "    Conv2D(100, (3,3), activation='relu', input_shape=(150, 150, 3)),\n",
    "    MaxPooling2D(2,2),\n",
    "    \n",
    "    Conv2D(100, (3,3), activation='relu'),\n",
    "    MaxPooling2D(2,2),\n",
    "    \n",
    "    Flatten(),\n",
    "    Dropout(0.5),\n",
    "    Dense(50, activation='relu'),\n",
    "    Dense(2, activation='softmax')\n",
    "])\n",
    "model.compile(optimizer='adam', loss='binary_crossentropy', metrics=['acc'])\n",
    "\n",
    "TRAINING_DIR = \"D:\\\\Github_projects\\\\Face_Mask_Detection\\\\face-mask-dataset\\\\Dataset\\\\train\"\n",
    "train_datagen = ImageDataGenerator(rescale=1.0/255,\n",
    "                                   rotation_range=40,\n",
    "                                   width_shift_range=0.2,\n",
    "                                   height_shift_range=0.2,\n",
    "                                   shear_range=0.2,\n",
    "                                   zoom_range=0.2,\n",
    "                                   horizontal_flip=True,\n",
    "                                   fill_mode='nearest')\n",
    "\n",
    "train_generator = train_datagen.flow_from_directory(TRAINING_DIR, \n",
    "                                                    batch_size=10, \n",
    "                                                    target_size=(150, 150))\n",
    "VALIDATION_DIR = \"D:\\\\Github_projects\\\\Face_Mask_Detection\\\\face-mask-dataset\\\\Dataset\\\\test\"\n",
    "validation_datagen = ImageDataGenerator(rescale=1.0/255)\n",
    "\n",
    "validation_generator = validation_datagen.flow_from_directory(VALIDATION_DIR, \n",
    "                                                         batch_size=10, \n",
    "                                                         target_size=(150, 150))\n",
    "checkpoint = ModelCheckpoint('model2-{epoch:03d}.model',monitor='val_loss',verbose=0,save_best_only=True,mode='auto')\n",
    "\n",
    "\n",
    "history = model.fit_generator(train_generator,\n",
    "                              epochs=10,\n",
    "                              validation_data=validation_generator,\n",
    "                              callbacks=[checkpoint])"
   ]
  },
  {
   "cell_type": "code",
   "execution_count": null,
   "metadata": {},
   "outputs": [],
   "source": []
  }
 ],
 "metadata": {
  "kernelspec": {
   "display_name": "Python 3",
   "language": "python",
   "name": "python3"
  },
  "language_info": {
   "codemirror_mode": {
    "name": "ipython",
    "version": 3
   },
   "file_extension": ".py",
   "mimetype": "text/x-python",
   "name": "python",
   "nbconvert_exporter": "python",
   "pygments_lexer": "ipython3",
   "version": "3.8.3"
  }
 },
 "nbformat": 4,
 "nbformat_minor": 4
}
